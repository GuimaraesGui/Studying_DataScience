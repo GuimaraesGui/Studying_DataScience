{
 "cells": [
  {
   "cell_type": "code",
   "execution_count": 29,
   "metadata": {},
   "outputs": [],
   "source": [
    "import openpyxl"
   ]
  },
  {
   "cell_type": "code",
   "execution_count": 30,
   "metadata": {},
   "outputs": [],
   "source": [
    "# Carregando Workbook\n",
    "planilha_consumo = openpyxl.load_workbook(r'C:\\Users\\00805129\\OneDrive - NATURGY INFORMATICA S.A\\Escritorio\\Studying_DataScience\\testeUtilidades\\Teste Utilidades.xlsx')  \n",
    "base_dados = openpyxl.load_workbook(r'C:\\Users\\00805129\\OneDrive - NATURGY INFORMATICA S.A\\Escritorio\\Studying_DataScience\\testeUtilidades\\Teste.xlsx')"
   ]
  },
  {
   "cell_type": "code",
   "execution_count": 34,
   "metadata": {},
   "outputs": [],
   "source": [
    "# Especificando a Worksheet\n",
    "ws_planilhaConsumo = planilha_consumo['Geral']\n",
    "ws_baseDados = base_dados['Worksheet']\n",
    "\n",
    "#Entre a coluna 48:54\n",
    "for row_planilhaConsumo in ws_planilhaConsumo.  iter_rows(min_row=7,max_row =ws_planilhaConsumo.max_row, min_col=1, max_col=1):\n",
    "    id_planilhaConsumo = row_planilhaConsumo[0].value\n",
    "\n",
    "    for row_baseDados in ws_baseDados.iter_rows(min_row=2, max_row=ws_baseDados.max_row, min_col=1, max_col= ws_baseDados.max_column):\n",
    "        id_baseDados = row_baseDados[0].value  # ID na primeira coluna da planilha de base de dados   \n",
    "        \n",
    "        # Se o ID corresponder, copiar os dados para a planilha de destino\n",
    "        if id_baseDados == id_planilhaConsumo:\n",
    "            for i in range(7):  \n",
    "                ws_planilhaConsumo.cell(row=row_planilhaConsumo[0].row, column=48 + i).value = row_baseDados[4 +i].value\n",
    "                \"\"\"\n",
    "                min_row=7 e max_row=ws_planilhaConsumo.max_row: Começa na linha 7 para ignorar o cabeçalho e vai até a última linha da planilha.\n",
    "                min_col=1 e max_col=1: Considera apenas a primeira coluna para procurar os IDs.\n",
    "                for i in range(7: Copia dados das 7 colunas da planilha base (E a K) para as colunas AV a BB da planilha de destino.\n",
    "                ws_planilhaConsumo.cell(row=row_planilhaConsumo[0].row, column=48 + i).value = row_baseDados[4 + i].value: Mapeia corretamente os dados de E a K para AV a BB.\n",
    "                \"\"\"\n",
    "            break  # Parar a iteração ao encontrar o ID     "
   ]
  },
  {
   "cell_type": "code",
   "execution_count": 33,
   "metadata": {},
   "outputs": [],
   "source": [
    "planilha_consumo.save(r'C:\\Users\\00805129\\OneDrive - NATURGY INFORMATICA S.A\\Escritorio\\Studying_DataScience\\testeUtilidades\\Teste Utilidades.xlsx')"
   ]
  }
 ],
 "metadata": {
  "kernelspec": {
   "display_name": "Python 3",
   "language": "python",
   "name": "python3"
  },
  "language_info": {
   "codemirror_mode": {
    "name": "ipython",
    "version": 3
   },
   "file_extension": ".py",
   "mimetype": "text/x-python",
   "name": "python",
   "nbconvert_exporter": "python",
   "pygments_lexer": "ipython3",
   "version": "3.12.1"
  }
 },
 "nbformat": 4,
 "nbformat_minor": 2
}
