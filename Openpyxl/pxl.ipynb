{
 "cells": [
  {
   "cell_type": "code",
   "execution_count": 13,
   "metadata": {},
   "outputs": [],
   "source": [
    "import openpyxl as pxl\n",
    "import pandas as pd"
   ]
  },
  {
   "cell_type": "code",
   "execution_count": 14,
   "metadata": {},
   "outputs": [],
   "source": [
    "from openpyxl import Workbook # Importa a feature Workbook\n",
    "wb = Workbook() # A função Workbook() cria uma planilha\n",
    "\n",
    "wb.save('testando.xlsx') # A função .save('nomeArquivo') funciona em conjunto com a feature Workbook"
   ]
  },
  {
   "cell_type": "code",
   "execution_count": 15,
   "metadata": {},
   "outputs": [],
   "source": [
    "ws = wb['Sheet']\n",
    "\n",
    "for i in range(1, 5, 2):\n",
    "    ws[f'B{i}'] = f'Informação{i}'\n",
    "\n",
    "wb.save('testando.xlsx')\n",
    "\n",
    "ws['B6'].value"
   ]
  },
  {
   "cell_type": "code",
   "execution_count": 17,
   "metadata": {},
   "outputs": [
    {
     "name": "stdout",
     "output_type": "stream",
     "text": [
      "O valor da célula é Informação3.\n"
     ]
    }
   ],
   "source": [
    "if ws['B7'].value is None: # Para fazer um teste lógico com células vazias, podemos comparar com is None ou (== '')\n",
    "    print(f\"O valor da célula é {ws['B3'].value}.\")\n",
    "else:\n",
    "    print(f'A célula contém: {ws['B4'].value}') # Utiliza a fString para introduzir a uma String diretamente\n",
    "                                                # o valor da variável."
   ]
  }
 ],
 "metadata": {
  "kernelspec": {
   "display_name": "Python 3",
   "language": "python",
   "name": "python3"
  },
  "language_info": {
   "codemirror_mode": {
    "name": "ipython",
    "version": 3
   },
   "file_extension": ".py",
   "mimetype": "text/x-python",
   "name": "python",
   "nbconvert_exporter": "python",
   "pygments_lexer": "ipython3",
   "version": "3.12.1"
  }
 },
 "nbformat": 4,
 "nbformat_minor": 2
}
