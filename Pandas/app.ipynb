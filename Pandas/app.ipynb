{
 "cells": [
  {
   "cell_type": "code",
   "execution_count": null,
   "metadata": {},
   "outputs": [],
   "source": [
    "import pandas as pd\n",
    "\n",
    "# Carregar dados\n",
    "df_planilhaConsumo = pd.read_excel(r'C:\\Users\\00805129\\OneDrive - NATURGY INFORMATICA S.A\\Escritorio\\Studying_DataScience\\testeUtilidades\\Teste Utilidades.xlsx', sheet_name='Geral')\n",
    "df_baseDados = pd.read_excel(r'C:\\Users\\00805129\\OneDrive - NATURGY INFORMATICA S.A\\Escritorio\\Studying_DataScience\\testeUtilidades\\Teste.xlsx', sheet_name='Worksheet')"
   ]
  },
  {
   "cell_type": "code",
   "execution_count": null,
   "metadata": {},
   "outputs": [],
   "source": [
    "df_planilhaConsumo"
   ]
  },
  {
   "cell_type": "code",
   "execution_count": null,
   "metadata": {},
   "outputs": [],
   "source": [
    "df_baseDados"
   ]
  },
  {
   "cell_type": "code",
   "execution_count": null,
   "metadata": {},
   "outputs": [],
   "source": [
    "# Remove linhas vazias\n",
    "df_planilhaConsumo = df_planilhaConsumo.dropna(how='all')\n",
    "df_planilhaConsumo"
   ]
  },
  {
   "cell_type": "code",
   "execution_count": null,
   "metadata": {},
   "outputs": [],
   "source": [
    "# .drop(<nmeroIndice): Remove uma linha específica através do índice\n",
    "df_planilhaConsumo = df_planilhaConsumo.drop(3)\n",
    "df_planilhaConsumo"
   ]
  },
  {
   "cell_type": "code",
   "execution_count": null,
   "metadata": {},
   "outputs": [],
   "source": [
    "new_header = df_planilhaConsumo.iloc[0]\n",
    "df_planilhaConsumo"
   ]
  },
  {
   "cell_type": "code",
   "execution_count": null,
   "metadata": {},
   "outputs": [],
   "source": [
    "df_planilhaConsumo = df_planilhaConsumo[2:]\n",
    "df_planilhaConsumo"
   ]
  },
  {
   "cell_type": "code",
   "execution_count": null,
   "metadata": {},
   "outputs": [],
   "source": [
    "df_planilhaConsumo.columns = new_header\n",
    "df_planilhaConsumo"
   ]
  },
  {
   "cell_type": "code",
   "execution_count": null,
   "metadata": {},
   "outputs": [],
   "source": [
    "df_planilhaConsumo.reset_index(drop=True, inplace=True)\n",
    "df_planilhaConsumo"
   ]
  },
  {
   "cell_type": "code",
   "execution_count": null,
   "metadata": {},
   "outputs": [],
   "source": [
    "# Merge dataframes com base no ID\n",
    "df_resultado = pd.merge(df_planilhaConsumo, df_baseDados, how='left', left_on='IDENTIFICAÇÃO', right_on='identificacao')\n",
    "\n",
    "# Salvar o resultado em um novo arquivo Excel\n",
    "df_resultado.to_excel(r'C:\\Users\\00805129\\OneDrive - NATURGY INFORMATICA S.A\\Escritorio\\Studying_DataScience\\testeUtilidades\\Teste Utilidades Atualizado.xlsx', index=False)\n"
   ]
  }
 ],
 "metadata": {
  "kernelspec": {
   "display_name": "Python 3",
   "language": "python",
   "name": "python3"
  },
  "language_info": {
   "codemirror_mode": {
    "name": "ipython",
    "version": 3
   },
   "file_extension": ".py",
   "mimetype": "text/x-python",
   "name": "python",
   "nbconvert_exporter": "python",
   "pygments_lexer": "ipython3",
   "version": "3.12.1"
  }
 },
 "nbformat": 4,
 "nbformat_minor": 2
}
