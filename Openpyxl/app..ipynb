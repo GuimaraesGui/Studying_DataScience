{
 "cells": [
  {
   "cell_type": "code",
   "execution_count": 6,
   "metadata": {},
   "outputs": [],
   "source": [
    "import openpyxl\n",
    "import pandas as pd"
   ]
  },
  {
   "cell_type": "code",
   "execution_count": 7,
   "metadata": {},
   "outputs": [],
   "source": [
    "# Acessa a workbook (Planilha)\n",
    "wb = openpyxl.load_workbook(r'C:\\Users\\00805129\\OneDrive - NATURGY INFORMATICA S.A\\Escritorio\\Studying_DataScience\\Planilha1.xlsx') # Foi utilizado a string bruta, iniciada pela letra \"r\", por causa das contra-barras"
   ]
  },
  {
   "cell_type": "code",
   "execution_count": 8,
   "metadata": {},
   "outputs": [],
   "source": [
    "# Acessa a planilha ativa e associa ela a uma variável\n",
    "ws = wb.active # Define a aba aberta atualmente ou a última em que o arquivo foi fechado\n",
    "ws = wb['Sheet1'] # Acessa uma aba qualquer da planilha através do nome ['nomeAba'] ou índice[1]."
   ]
  },
  {
   "cell_type": "code",
   "execution_count": 15,
   "metadata": {},
   "outputs": [],
   "source": [
    "# Acessa uma célula\n",
    "# Sintaxe: <var>['CoordenadaCélula'] = <ValorDesejado>\n",
    "\n",
    "ws['A1'] = 'Meu nome é' \n",
    "ws['A2'] = 'Gustavo'\n",
    "# ws.append([1, 2, 3]) # Adiciona os valores na última linha em branco. Em uma lista, cada valor representa uma coluna"
   ]
  },
  {
   "cell_type": "code",
   "execution_count": 16,
   "metadata": {},
   "outputs": [],
   "source": [
    "# Salvando alterações\n",
    "workbook.save(r'C:\\Users\\00805129\\OneDrive - NATURGY INFORMATICA S.A\\Escritorio\\Studying_DataScience\\Planilha1.xlsx') # O salvamento sempre referenciará o workbook"
   ]
  },
  {
   "cell_type": "code",
   "execution_count": 23,
   "metadata": {},
   "outputs": [
    {
     "data": {
      "text/plain": [
       "'Olá'"
      ]
     },
     "execution_count": 23,
     "metadata": {},
     "output_type": "execute_result"
    }
   ],
   "source": [
    "# Mostra o valor da célula\n",
    "ws['B1'].value\n"
   ]
  },
  {
   "cell_type": "code",
   "execution_count": 39,
   "metadata": {},
   "outputs": [
    {
     "data": {
      "text/plain": [
       "<Worksheet \"Sheet\">"
      ]
     },
     "execution_count": 39,
     "metadata": {},
     "output_type": "execute_result"
    }
   ],
   "source": [
    "from openpyxl import Workbook\n",
    "\n",
    "wb1 = Workbook()\n",
    "wb1.save('openpy.xlsx')\n",
    "\n",
    "ws = wb1['Sheet']"
   ]
  },
  {
   "cell_type": "code",
   "execution_count": null,
   "metadata": {},
   "outputs": [],
   "source": []
  }
 ],
 "metadata": {
  "kernelspec": {
   "display_name": "Python 3",
   "language": "python",
   "name": "python3"
  },
  "language_info": {
   "codemirror_mode": {
    "name": "ipython",
    "version": 3
   },
   "file_extension": ".py",
   "mimetype": "text/x-python",
   "name": "python",
   "nbconvert_exporter": "python",
   "pygments_lexer": "ipython3",
   "version": "3.12.1"
  }
 },
 "nbformat": 4,
 "nbformat_minor": 2
}
