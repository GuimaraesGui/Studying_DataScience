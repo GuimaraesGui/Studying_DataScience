{
 "cells": [
  {
   "cell_type": "code",
   "execution_count": 14,
   "metadata": {},
   "outputs": [],
   "source": [
    "import pandas as pd"
   ]
  },
  {
   "cell_type": "code",
   "execution_count": 15,
   "metadata": {},
   "outputs": [
    {
     "data": {
      "text/html": [
       "<div>\n",
       "<style scoped>\n",
       "    .dataframe tbody tr th:only-of-type {\n",
       "        vertical-align: middle;\n",
       "    }\n",
       "\n",
       "    .dataframe tbody tr th {\n",
       "        vertical-align: top;\n",
       "    }\n",
       "\n",
       "    .dataframe thead th {\n",
       "        text-align: right;\n",
       "    }\n",
       "</style>\n",
       "<table border=\"1\" class=\"dataframe\">\n",
       "  <thead>\n",
       "    <tr style=\"text-align: right;\">\n",
       "      <th></th>\n",
       "      <th>Código</th>\n",
       "      <th>Nome_Produto</th>\n",
       "      <th>Qntd.</th>\n",
       "      <th>Tamanho</th>\n",
       "      <th>Preço</th>\n",
       "    </tr>\n",
       "  </thead>\n",
       "  <tbody>\n",
       "    <tr>\n",
       "      <th>0</th>\n",
       "      <td>1</td>\n",
       "      <td>Camisinha</td>\n",
       "      <td>20</td>\n",
       "      <td>Normal</td>\n",
       "      <td>8.89</td>\n",
       "    </tr>\n",
       "    <tr>\n",
       "      <th>1</th>\n",
       "      <td>2</td>\n",
       "      <td>Lubrificante</td>\n",
       "      <td>50</td>\n",
       "      <td>300mL</td>\n",
       "      <td>25.79</td>\n",
       "    </tr>\n",
       "    <tr>\n",
       "      <th>2</th>\n",
       "      <td>3</td>\n",
       "      <td>Plug Anal</td>\n",
       "      <td>202</td>\n",
       "      <td>Médio</td>\n",
       "      <td>13.70</td>\n",
       "    </tr>\n",
       "  </tbody>\n",
       "</table>\n",
       "</div>"
      ],
      "text/plain": [
       "   Código  Nome_Produto  Qntd. Tamanho  Preço\n",
       "0       1     Camisinha     20  Normal   8.89\n",
       "1       2  Lubrificante     50   300mL  25.79\n",
       "2       3     Plug Anal    202   Médio  13.70"
      ]
     },
     "execution_count": 15,
     "metadata": {},
     "output_type": "execute_result"
    }
   ],
   "source": [
    "estoque_roberto = {'Código': [1, 2, 3],\n",
    "                   'Nome_Produto': ['Camisinha','Lubrificante','Plug Anal'],\n",
    "                   'Qntd.': [20, 50, 202],\n",
    "                   'Tamanho': ['Normal', '300mL','Médio'],\n",
    "                   'Preço': [8.89, 25.79, 13.7]}\n",
    "\n",
    "estoque_roberto = pd.DataFrame(estoque_roberto)\n",
    "estoque_roberto"
   ]
  },
  {
   "cell_type": "code",
   "execution_count": 16,
   "metadata": {},
   "outputs": [
    {
     "data": {
      "text/html": [
       "<div>\n",
       "<style scoped>\n",
       "    .dataframe tbody tr th:only-of-type {\n",
       "        vertical-align: middle;\n",
       "    }\n",
       "\n",
       "    .dataframe tbody tr th {\n",
       "        vertical-align: top;\n",
       "    }\n",
       "\n",
       "    .dataframe thead th {\n",
       "        text-align: right;\n",
       "    }\n",
       "</style>\n",
       "<table border=\"1\" class=\"dataframe\">\n",
       "  <thead>\n",
       "    <tr style=\"text-align: right;\">\n",
       "      <th></th>\n",
       "      <th>Código</th>\n",
       "      <th>Nome_Produto</th>\n",
       "      <th>Qntd.</th>\n",
       "      <th>Tamanho</th>\n",
       "      <th>Preço</th>\n",
       "    </tr>\n",
       "  </thead>\n",
       "  <tbody>\n",
       "    <tr>\n",
       "      <th>0</th>\n",
       "      <td>1</td>\n",
       "      <td>Camisinha</td>\n",
       "      <td>20</td>\n",
       "      <td>Normal</td>\n",
       "      <td>8.89</td>\n",
       "    </tr>\n",
       "    <tr>\n",
       "      <th>1</th>\n",
       "      <td>2</td>\n",
       "      <td>Lubrificante</td>\n",
       "      <td>50</td>\n",
       "      <td>300mL</td>\n",
       "      <td>25.79</td>\n",
       "    </tr>\n",
       "    <tr>\n",
       "      <th>2</th>\n",
       "      <td>3</td>\n",
       "      <td>Plug Anal</td>\n",
       "      <td>202</td>\n",
       "      <td>Médio</td>\n",
       "      <td>13.70</td>\n",
       "    </tr>\n",
       "    <tr>\n",
       "      <th>3</th>\n",
       "      <td>11</td>\n",
       "      <td>Camiseta Azul de Algodão</td>\n",
       "      <td>5</td>\n",
       "      <td>M</td>\n",
       "      <td>60.00</td>\n",
       "    </tr>\n",
       "  </tbody>\n",
       "</table>\n",
       "</div>"
      ],
      "text/plain": [
       "   Código              Nome_Produto  Qntd. Tamanho  Preço\n",
       "0       1                 Camisinha     20  Normal   8.89\n",
       "1       2              Lubrificante     50   300mL  25.79\n",
       "2       3                 Plug Anal    202   Médio  13.70\n",
       "3      11  Camiseta Azul de Algodão      5       M  60.00"
      ]
     },
     "execution_count": 16,
     "metadata": {},
     "output_type": "execute_result"
    }
   ],
   "source": [
    "novo_estoque = {'Código': [11], 'Nome_Produto': ['Camiseta Azul de Algodão'], 'Qntd.': [5], 'Tamanho': ['M'],'Preço': [60.00]}\n",
    "novo_estoque = pd.DataFrame(novo_estoque)\n",
    "\n",
    "estoque_roberto = pd.concat([estoque_roberto, novo_estoque], ignore_index=True)\n",
    "estoque_roberto"
   ]
  },
  {
   "cell_type": "code",
   "execution_count": null,
   "metadata": {},
   "outputs": [],
   "source": []
  }
 ],
 "metadata": {
  "kernelspec": {
   "display_name": "Python 3",
   "language": "python",
   "name": "python3"
  },
  "language_info": {
   "codemirror_mode": {
    "name": "ipython",
    "version": 3
   },
   "file_extension": ".py",
   "mimetype": "text/x-python",
   "name": "python",
   "nbconvert_exporter": "python",
   "pygments_lexer": "ipython3",
   "version": "3.12.4"
  }
 },
 "nbformat": 4,
 "nbformat_minor": 2
}
